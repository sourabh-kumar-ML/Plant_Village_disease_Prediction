{
 "cells": [
  {
   "cell_type": "code",
   "execution_count": 1,
   "metadata": {},
   "outputs": [],
   "source": [
    "import numpy as np\n",
    "import pickle\n",
    "import cv2\n",
    "from os import listdir\n",
    "import matplotlib.pyplot as plt\n",
    "from googlesearch import search \n",
    "import webbrowser  \n",
    "from sklearn.utils import shuffle"
   ]
  },
  {
   "cell_type": "code",
   "execution_count": 2,
   "metadata": {},
   "outputs": [
    {
     "name": "stderr",
     "output_type": "stream",
     "text": [
      "Using TensorFlow backend.\n"
     ]
    },
    {
     "name": "stdout",
     "output_type": "stream",
     "text": [
      "WARNING:tensorflow:From C:\\Users\\soura\\Anaconda3\\lib\\site-packages\\keras\\backend\\tensorflow_backend.py:541: The name tf.placeholder is deprecated. Please use tf.compat.v1.placeholder instead.\n",
      "\n",
      "WARNING:tensorflow:From C:\\Users\\soura\\Anaconda3\\lib\\site-packages\\keras\\backend\\tensorflow_backend.py:4432: The name tf.random_uniform is deprecated. Please use tf.random.uniform instead.\n",
      "\n",
      "WARNING:tensorflow:From C:\\Users\\soura\\Anaconda3\\lib\\site-packages\\keras\\backend\\tensorflow_backend.py:66: The name tf.get_default_graph is deprecated. Please use tf.compat.v1.get_default_graph instead.\n",
      "\n",
      "WARNING:tensorflow:From C:\\Users\\soura\\Anaconda3\\lib\\site-packages\\keras\\backend\\tensorflow_backend.py:190: The name tf.get_default_session is deprecated. Please use tf.compat.v1.get_default_session instead.\n",
      "\n",
      "WARNING:tensorflow:From C:\\Users\\soura\\Anaconda3\\lib\\site-packages\\keras\\backend\\tensorflow_backend.py:197: The name tf.ConfigProto is deprecated. Please use tf.compat.v1.ConfigProto instead.\n",
      "\n",
      "WARNING:tensorflow:From C:\\Users\\soura\\Anaconda3\\lib\\site-packages\\keras\\backend\\tensorflow_backend.py:2041: The name tf.nn.fused_batch_norm is deprecated. Please use tf.compat.v1.nn.fused_batch_norm instead.\n",
      "\n",
      "WARNING:tensorflow:From C:\\Users\\soura\\Anaconda3\\lib\\site-packages\\keras\\backend\\tensorflow_backend.py:4267: The name tf.nn.max_pool is deprecated. Please use tf.nn.max_pool2d instead.\n",
      "\n",
      "WARNING:tensorflow:From C:\\Users\\soura\\Anaconda3\\lib\\site-packages\\keras\\backend\\tensorflow_backend.py:3733: calling dropout (from tensorflow.python.ops.nn_ops) with keep_prob is deprecated and will be removed in a future version.\n",
      "Instructions for updating:\n",
      "Please use `rate` instead of `keep_prob`. Rate should be set to `rate = 1 - keep_prob`.\n",
      "WARNING:tensorflow:From C:\\Users\\soura\\Anaconda3\\lib\\site-packages\\keras\\optimizers.py:793: The name tf.train.Optimizer is deprecated. Please use tf.compat.v1.train.Optimizer instead.\n",
      "\n",
      "WARNING:tensorflow:From C:\\Users\\soura\\Anaconda3\\lib\\site-packages\\tensorflow\\python\\ops\\nn_impl.py:180: add_dispatch_support.<locals>.wrapper (from tensorflow.python.ops.array_ops) is deprecated and will be removed in a future version.\n",
      "Instructions for updating:\n",
      "Use tf.where in 2.0, which has the same broadcast rule as np.where\n"
     ]
    }
   ],
   "source": [
    "#to be used only when training is completed i.e load trained model\n",
    "with open('cnn_model.pkl','rb') as f:\n",
    "    model = pickle.load(f)\n",
    "with open('label_transform.pkl','rb') as d:\n",
    "    labael_binarizer = pickle.load(d)\n",
    "classes = labael_binarizer.classes_"
   ]
  },
  {
   "cell_type": "code",
   "execution_count": 6,
   "metadata": {},
   "outputs": [],
   "source": [
    "def pred_disease():\n",
    "    adr = input(\"Enter adress of plant leave:\")\n",
    "    image = cv2.imread(f'{adr}')\n",
    "    image = cv2.cvtColor(image, cv2.COLOR_BGR2GRAY)\n",
    "    image = cv2.resize(image, (256,256))\n",
    "    std_img = np.array(image, dtype = np.float16)/255.0\n",
    "    std_img = std_img.reshape(-1,256,256,1)\n",
    "    out = model.predict(std_img).ravel()\n",
    "    diseas = classes[out.argmax()]\n",
    "    diseas = diseas.replace('_',\" \")\n",
    "    print('plant is suffuering from :: {}'.format(diseas))\n",
    "    diseas = diseas.replace('_',\" \")\n",
    "    query = diseas +\"Treatment and cure\"\n",
    "    data = search(query, tld=\"co.in\", num=10, stop=1, pause=2)\n",
    "    url = ''\n",
    "    for j in search(query, tld=\"co.in\", num=10, stop=2, pause=2): \n",
    "        url = j\n",
    "        print(url)\n",
    "    webbrowser.open(url, new=0, autoraise=True)"
   ]
  },
  {
   "cell_type": "code",
   "execution_count": 7,
   "metadata": {},
   "outputs": [
    {
     "name": "stdout",
     "output_type": "stream",
     "text": [
      "\n",
      "\n",
      "1.Enter 1 to Predict Disease\n",
      "2.Enter 2 to Exit\n",
      "1\n",
      "Enter adress of plant leave:D:\\PlantVillage\\Potato___Early_blight\\0a0744dc-8486-4fbb-a44b-4d63e6db6197___RS_Early.B 7575.JPG\n",
      "plant is suffuering from :: Tomato Early blight\n",
      "https://www.planetnatural.com/pest-problem-solver/plant-disease/early-blight/\n",
      "https://backgarden.org/tomato-early-blight/\n",
      "\n",
      "\n",
      "1.Enter 1 to Predict Disease\n",
      "2.Enter 2 to Exit\n",
      "2\n"
     ]
    }
   ],
   "source": [
    "pred = True\n",
    "while pred:\n",
    "    x = int(input('\\n\\n1.Enter 1 to Predict Disease\\n2.Enter 2 to Exit\\n'))\n",
    "    if x== 1:\n",
    "        pred_disease()\n",
    "    elif x == 2:\n",
    "        pred = False"
   ]
  },
  {
   "cell_type": "code",
   "execution_count": null,
   "metadata": {},
   "outputs": [],
   "source": []
  }
 ],
 "metadata": {
  "kernelspec": {
   "display_name": "Python 3",
   "language": "python",
   "name": "python3"
  },
  "language_info": {
   "codemirror_mode": {
    "name": "ipython",
    "version": 3
   },
   "file_extension": ".py",
   "mimetype": "text/x-python",
   "name": "python",
   "nbconvert_exporter": "python",
   "pygments_lexer": "ipython3",
   "version": "3.7.3"
  }
 },
 "nbformat": 4,
 "nbformat_minor": 2
}
